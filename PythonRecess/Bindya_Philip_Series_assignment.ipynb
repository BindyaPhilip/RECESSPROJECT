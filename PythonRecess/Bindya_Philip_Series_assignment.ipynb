{
 "cells": [
  {
   "cell_type": "markdown",
   "id": "283850a2",
   "metadata": {},
   "source": [
    "# SERIES ASSIGNMENT"
   ]
  },
  {
   "cell_type": "code",
   "execution_count": 1,
   "id": "4eb218a1",
   "metadata": {},
   "outputs": [],
   "source": [
    "import pandas as pd"
   ]
  },
  {
   "cell_type": "code",
   "execution_count": 2,
   "id": "9e495554",
   "metadata": {},
   "outputs": [
    {
     "name": "stdout",
     "output_type": "stream",
     "text": [
      "0    False\n",
      "1    False\n",
      "2    False\n",
      "3    False\n",
      "4     True\n",
      "dtype: bool\n"
     ]
    }
   ],
   "source": [
    "#Create two pandas series and then compare them\n",
    "series1 = pd.Series([4, 65, 436, 3, 9])\n",
    "series2 = pd.Series([7, 0, 3, 897, 9])\n",
    "\n",
    "comparison_result = series1 == series2\n",
    "\n",
    "print(comparison_result)\n"
   ]
  },
  {
   "cell_type": "code",
   "execution_count": 7,
   "id": "2212bd4a",
   "metadata": {},
   "outputs": [
    {
     "name": "stdout",
     "output_type": "stream",
     "text": [
      "Addition Result:\n",
      "0     3\n",
      "1     7\n",
      "2    11\n",
      "3    15\n",
      "4    23\n",
      "dtype: int64\n",
      "Subtraction Result:\n",
      "0    1\n",
      "1    1\n",
      "2    1\n",
      "3    1\n",
      "4    5\n",
      "dtype: int64\n",
      "Multiplication Result:\n",
      "0      2\n",
      "1     12\n",
      "2     30\n",
      "3     56\n",
      "4    126\n",
      "dtype: int64\n",
      "Division Result:\n",
      "0    2.000000\n",
      "1    1.333333\n",
      "2    1.200000\n",
      "3    1.142857\n",
      "4    1.555556\n",
      "dtype: float64\n"
     ]
    }
   ],
   "source": [
    "\n",
    "series1 = pd.Series([2, 4, 6, 8, 14])\n",
    "series2 = pd.Series([1, 3, 5, 7, 9])\n",
    "\n",
    "# Addition\n",
    "addition_result = series1 + series2\n",
    "print(\"Addition Result:\")\n",
    "print(addition_result)\n",
    "\n",
    "# Subtraction\n",
    "subtraction_result = series1 - series2\n",
    "print(\"Subtraction Result:\")\n",
    "print(subtraction_result)\n",
    "\n",
    "# Multiplication\n",
    "multiplication_result = series1 * series2\n",
    "print(\"Multiplication Result:\")\n",
    "print(multiplication_result)\n",
    "\n",
    "# Division\n",
    "division_result = series1 / series2\n",
    "print(\"Division Result:\")\n",
    "print(division_result)\n"
   ]
  },
  {
   "cell_type": "code",
   "execution_count": 9,
   "id": "63ddfac4",
   "metadata": {},
   "outputs": [
    {
     "name": "stdout",
     "output_type": "stream",
     "text": [
      "To Series\n",
      "England    Liverpool\n",
      "Spain      Barcelona\n",
      "Germany     Dortmund\n",
      "France        Monaco\n",
      "Italy         Napoli\n",
      "dtype: object\n"
     ]
    }
   ],
   "source": [
    "my_teams = {'England': \"Liverpool\",\n",
    "           'Spain': \"Barcelona\",\n",
    "           'Germany':\"Dortmund\",\n",
    "           'France': \"Monaco\",\n",
    "           'Italy': \"Napoli\"}\n",
    "other_version = pd.Series(my_teams)\n",
    "print(\"To Series\")\n",
    "print(other_version)"
   ]
  },
  {
   "cell_type": "code",
   "execution_count": 12,
   "id": "34e37b26",
   "metadata": {},
   "outputs": [
    {
     "name": "stdout",
     "output_type": "stream",
     "text": [
      "Series\n",
      "Josh       24\n",
      "Sam        36\n",
      "Peace      19\n",
      "Charles    65\n",
      "Tom        44\n",
      "dtype: int64\n"
     ]
    }
   ],
   "source": [
    " dictionary1 = {'Josh': 24, 'Sam': 36, 'Peace': 19, 'Charles': 65, 'Tom': 44}\n",
    " to_series = pd.Series(dictionary1)\n",
    "print(\"Series\")\n",
    "print(to_series)"
   ]
  },
  {
   "cell_type": "code",
   "execution_count": 13,
   "id": "4e3d5927",
   "metadata": {},
   "outputs": [
    {
     "name": "stdout",
     "output_type": "stream",
     "text": [
      "['Love' 800 'Joy' 789.9 'Peace' True]\n",
      "<class 'numpy.ndarray'>\n"
     ]
    }
   ],
   "source": [
    "\n",
    "series = pd.Series(['Love', 800, 'Joy', 789.9, 'Peace', True])\n",
    "#converting series to an array\n",
    "array = series.values\n",
    "\n",
    "print(array)\n",
    "print(type(array))\n"
   ]
  },
  {
   "cell_type": "code",
   "execution_count": 17,
   "id": "99aa72e4",
   "metadata": {},
   "outputs": [
    {
     "name": "stdout",
     "output_type": "stream",
     "text": [
      "The most frequently used value: 1\n"
     ]
    }
   ],
   "source": [
    "series = pd.Series([1, 4, 4, 1, 2, 4, 2, 3, 4, 1, 2, 4, 6, 2, 4, 3, 3, 4, 0, 5, 5, 3, 4, 0, 3, 2, 3, 1, 4, 2, 3, 2, 3, 2, 2, 2, 3, 2, 4, 1, 1, 3, 3, 3, 1, 6, 2, 2, 4, 2, 1, 1, 1, 1, 1, 3, 1, 2, 3, 1, 2, 1, 1, 1, 1, 1, 2, 1, 4, 0, 3, 5, 3, 2, 1, 3, 2, 2, 1, 2, 2, 2, 2, 1, 4, 2, 2, 0, 2, 2, 2, 1, 2, 1, 2, 1, 4, 2, 1, 1, 3, 1, 1, 2, 2, 4, 3, 1, 2, 4, 2, 1, 0, 3, 1, 3, 3, 1, 0, 3, 1, 2, 1, 2, 3, 2, 2, 0, 1, 1, 0, 1, 1, 1, 3, 1, 1, 2, 2, 3, 2, 1, 0, 2, 1, 0, 3, 1, 1, 2, 0, 3, 3, 2, 2, 1, 3, 1, 4, 1, 0, 0, 1, 3, 2, 2, 0, 1, 2, 0, 3, 3, 1, 3, 2, 2, 1, 2, 0, 3, 0, 1, 1, 3, 1, 1, 3, 0, 1, 1, 1, 1, 1, 0, 1, 3, 1, 3, 0, 0, 1, 0, 1, 1, 5, 3, 1, 3, 1, 2, 1, 0, 1, 2, 0, 2, 0, 2, 1, 1, 2, 2, 3, 1, 1, 1, 3, 0, 1, 1, 1, 1, 1, 1, 1, 2, 2, 0, 2, 0, 0, 0, 1, 3, 4, 0, 4, 0, 1, 1, 2, 1, 0, 0, 1, 1, 2, 4, 3, 2, 3, 2, 2, 1, 0, 3, 0, 2, 2, 5, 2, 4, 1, 2, 2, 2, 1, 2, 1, 3, 2, 2, 3, 1, 1, 3, 2, 0, 2, 0, 0, 2, 2, 1, 2, 2, 2, 2, 2, 1, 3, 0, 4, 1, 3, 5, 4, 1, 2, 4, 3, 3, 1, 0, 1, 0, 1, 1, 0, 4, 0, 1, 1, 2, 3, 0, 0, 3, 0, 1, 3, 1, 0, 2, 1, 1, 1, 4, 2, 4, 1, 0, 0, 2, 1, 2, 1, 0, 2, 2, 3, 2, 2, 1, 0, 0, 2, 2, 0, 0, 0, 0, 1, 3, 1, 1, 0, 1, 0, 3, 3, 0, 0, 1, 1, 2, 0, 0, 1, 1, 2, 1, 0, 1, 0, 2, 1, 1, 3, 1, 1, 1, 0, 3, 1, 1, 0, 1, 1, 5, 2, 0, 1, 0, 2, 4, 4, 1, 2, 2, 1, 1, 3, 1, 4, 2, 2, 3, 0, 1, 0, 3, 0, 3, 0, 0, 2, 3, 2, 4, 0, 1, 2, 0, 1, 1, 0, 1, 2, 2, 1, 2, 4, 1, 1, 2, 0, 0, 0, 2, 1, 3, 1, 2, 1, 0, 1, 4, 0, 2, 3, 4, 0, 5, 3, 3, 1, 2, 1, 1, 3, 1, 0, 2, 5, 2, 2, 0, 1, 4, 0, 4, 3, 0, 2, 0, 3, 0])\n",
    "#checking for frequent value\n",
    "frequent_value = series.value_counts().idxmax()\n",
    "\n",
    "print(f\"The most frequently used value: {frequent_value}\")\n"
   ]
  }
 ],
 "metadata": {
  "kernelspec": {
   "display_name": "Python 3 (ipykernel)",
   "language": "python",
   "name": "python3"
  },
  "language_info": {
   "codemirror_mode": {
    "name": "ipython",
    "version": 3
   },
   "file_extension": ".py",
   "mimetype": "text/x-python",
   "name": "python",
   "nbconvert_exporter": "python",
   "pygments_lexer": "ipython3",
   "version": "3.11.4"
  }
 },
 "nbformat": 4,
 "nbformat_minor": 5
}
